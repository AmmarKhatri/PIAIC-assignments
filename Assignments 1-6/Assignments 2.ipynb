{
 "cells": [
  {
   "cell_type": "markdown",
   "metadata": {},
   "source": [
    "D. Verbing"
   ]
  },
  {
   "cell_type": "code",
   "execution_count": 19,
   "metadata": {},
   "outputs": [],
   "source": [
    "def verbing(s):\n",
    "    if len(s) <= 2:\n",
    "        main = s\n",
    "    elif s[-3]+s[-2]+s[-1] == 'ing':\n",
    "        main = s +'ly'\n",
    "    elif len(s) >= 3:\n",
    "        main = s + 'ing'\n",
    "    return main"
   ]
  },
  {
   "cell_type": "code",
   "execution_count": 20,
   "metadata": {},
   "outputs": [
    {
     "data": {
      "text/plain": [
       "'stingly'"
      ]
     },
     "execution_count": 20,
     "metadata": {},
     "output_type": "execute_result"
    }
   ],
   "source": [
    "verbing('sting')"
   ]
  },
  {
   "cell_type": "code",
   "execution_count": 21,
   "metadata": {},
   "outputs": [
    {
     "data": {
      "text/plain": [
       "'stucking'"
      ]
     },
     "execution_count": 21,
     "metadata": {},
     "output_type": "execute_result"
    }
   ],
   "source": [
    "verbing('stuck')"
   ]
  },
  {
   "cell_type": "code",
   "execution_count": 22,
   "metadata": {},
   "outputs": [
    {
     "data": {
      "text/plain": [
       "'st'"
      ]
     },
     "execution_count": 22,
     "metadata": {},
     "output_type": "execute_result"
    }
   ],
   "source": [
    "verbing('st')  "
   ]
  },
  {
   "cell_type": "markdown",
   "metadata": {},
   "source": [
    "E. Not bad"
   ]
  },
  {
   "cell_type": "code",
   "execution_count": 23,
   "metadata": {},
   "outputs": [],
   "source": [
    "def not_bad(s):\n",
    "    snot = s.find('not')\n",
    "    sbad = s.find('bad')\n",
    "\n",
    "    if sbad > snot:\n",
    "        s = s.replace(s[snot:(sbad+3)], 'good')\n",
    "\n",
    "    return s"
   ]
  },
  {
   "cell_type": "code",
   "execution_count": 27,
   "metadata": {},
   "outputs": [
    {
     "data": {
      "text/plain": [
       "'It is good!'"
      ]
     },
     "execution_count": 27,
     "metadata": {},
     "output_type": "execute_result"
    }
   ],
   "source": [
    "not_bad('It is not the case that the food is bad!')"
   ]
  },
  {
   "cell_type": "markdown",
   "metadata": {},
   "source": [
    "F. Front_back"
   ]
  },
  {
   "cell_type": "code",
   "execution_count": 28,
   "metadata": {},
   "outputs": [],
   "source": [
    "def front_back(a, b):\n",
    "    alength = len(a)\n",
    "    blength = len(b)\n",
    "\n",
    "    if alength % 2 == 0:\n",
    "        aindex = alength // 2\n",
    "    else:\n",
    "        aindex = (alength // 2) + 1\n",
    "\n",
    "    if blength % 2 == 0:\n",
    "        bindex = blength // 2\n",
    "    else:\n",
    "        bindex = (blength // 2) + 1\n",
    "\n",
    "    afront = a[0:aindex]\n",
    "    aback = a[aindex:]\n",
    "\n",
    "    bfront = b[0:bindex]\n",
    "    bback = b[bindex:]\n",
    "\n",
    "    return afront + bfront + aback + bback"
   ]
  },
  {
   "cell_type": "code",
   "execution_count": 29,
   "metadata": {},
   "outputs": [
    {
     "name": "stdout",
     "output_type": "stream",
     "text": [
      "verbing\n",
      " OK  got: 'hailing' expected: 'hailing'\n",
      " OK  got: 'swimingly' expected: 'swimingly'\n",
      " OK  got: 'do' expected: 'do'\n",
      "not_bad\n",
      " OK  got: 'This movie is good' expected: 'This movie is good'\n",
      " OK  got: 'This dinner is good!' expected: 'This dinner is good!'\n",
      " OK  got: 'This tea is not hot' expected: 'This tea is not hot'\n",
      " OK  got: \"It's bad yet not\" expected: \"It's bad yet not\"\n",
      "front_back\n",
      " OK  got: 'abxcdy' expected: 'abxcdy'\n",
      " OK  got: 'abcxydez' expected: 'abcxydez'\n",
      " OK  got: 'KitDontenut' expected: 'KitDontenut'\n"
     ]
    }
   ],
   "source": [
    "def test(got, expected):\n",
    "    if got == expected:\n",
    "        prefix = ' OK '\n",
    "    else:\n",
    "        prefix = '  X '\n",
    "    print (('%s got: %s expected: %s') % (prefix, repr(got), repr(expected)))\n",
    "\n",
    "\n",
    "# main() calls the above functions with interesting inputs,\n",
    "# using the above test() to check if the result is correct or not.\n",
    "def main():\n",
    "    print ('verbing')\n",
    "    test(verbing('hail'), 'hailing')\n",
    "    test(verbing('swiming'), 'swimingly')\n",
    "    test(verbing('do'), 'do')\n",
    "\n",
    "    print\n",
    "    print ('not_bad')\n",
    "    test(not_bad('This movie is not so bad'), 'This movie is good')\n",
    "    test(not_bad('This dinner is not that bad!'), 'This dinner is good!')\n",
    "    test(not_bad('This tea is not hot'), 'This tea is not hot')\n",
    "    test(not_bad(\"It's bad yet not\"), \"It's bad yet not\")\n",
    "\n",
    "    print\n",
    "    print ('front_back')\n",
    "    test(front_back('abcd', 'xy'), 'abxcdy')\n",
    "    test(front_back('abcde', 'xyz'), 'abcxydez')\n",
    "    test(front_back('Kitten', 'Donut'), 'KitDontenut')\n",
    "\n",
    "if __name__ == '__main__':\n",
    "    main()\n"
   ]
  }
 ],
 "metadata": {
  "kernelspec": {
   "display_name": "Python 3",
   "language": "python",
   "name": "python3"
  },
  "language_info": {
   "codemirror_mode": {
    "name": "ipython",
    "version": 3
   },
   "file_extension": ".py",
   "mimetype": "text/x-python",
   "name": "python",
   "nbconvert_exporter": "python",
   "pygments_lexer": "ipython3",
   "version": "3.7.0"
  }
 },
 "nbformat": 4,
 "nbformat_minor": 2
}
