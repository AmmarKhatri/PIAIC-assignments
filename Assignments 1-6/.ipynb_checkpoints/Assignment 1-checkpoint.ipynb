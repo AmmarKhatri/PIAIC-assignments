{
 "cells": [
  {
   "cell_type": "markdown",
   "metadata": {},
   "source": [
    "A. Donuts"
   ]
  },
  {
   "cell_type": "code",
   "execution_count": 3,
   "metadata": {},
   "outputs": [],
   "source": [
    "def donuts(count):\n",
    "    if count > 9:\n",
    "        y = \"Number of donuts: many\"\n",
    "    else:\n",
    "        y = \"Number of donuts: \" + str(count)\n",
    "    return y"
   ]
  },
  {
   "cell_type": "code",
   "execution_count": 4,
   "metadata": {},
   "outputs": [
    {
     "data": {
      "text/plain": [
       "'Number of donuts: 3'"
      ]
     },
     "execution_count": 4,
     "metadata": {},
     "output_type": "execute_result"
    }
   ],
   "source": [
    "donuts(3)"
   ]
  },
  {
   "cell_type": "code",
   "execution_count": 5,
   "metadata": {},
   "outputs": [
    {
     "data": {
      "text/plain": [
       "'Number of donuts: many'"
      ]
     },
     "execution_count": 5,
     "metadata": {},
     "output_type": "execute_result"
    }
   ],
   "source": [
    "donuts(10)"
   ]
  },
  {
   "cell_type": "markdown",
   "metadata": {},
   "source": [
    "B. Both_ends"
   ]
  },
  {
   "cell_type": "code",
   "execution_count": 20,
   "metadata": {},
   "outputs": [],
   "source": [
    "def both_ends(x):\n",
    "    if len(x) < 2:\n",
    "        end = ''\n",
    "    else:\n",
    "        first = x[0] + x[1]\n",
    "        last = x[-2] + x[-1]\n",
    "        end = first + last\n",
    "    return end"
   ]
  },
  {
   "cell_type": "code",
   "execution_count": 21,
   "metadata": {},
   "outputs": [
    {
     "data": {
      "text/plain": [
       "'spng'"
      ]
     },
     "execution_count": 21,
     "metadata": {},
     "output_type": "execute_result"
    }
   ],
   "source": [
    "both_ends(\"spring\")"
   ]
  },
  {
   "cell_type": "markdown",
   "metadata": {},
   "source": [
    "C. fix_start"
   ]
  },
  {
   "cell_type": "code",
   "execution_count": 22,
   "metadata": {},
   "outputs": [],
   "source": [
    "def fix_start(s):\n",
    "    S = str(s [1:len(s)+1])\n",
    "    return s[0] + S.replace(s[0],\"*\")"
   ]
  },
  {
   "cell_type": "code",
   "execution_count": 23,
   "metadata": {},
   "outputs": [
    {
     "data": {
      "text/plain": [
       "'ba**le'"
      ]
     },
     "execution_count": 23,
     "metadata": {},
     "output_type": "execute_result"
    }
   ],
   "source": [
    "fix_start(\"babble\")"
   ]
  },
  {
   "cell_type": "markdown",
   "metadata": {},
   "source": [
    "D. MixUp"
   ]
  },
  {
   "cell_type": "code",
   "execution_count": 24,
   "metadata": {},
   "outputs": [],
   "source": [
    "def mix_up(a, b):\n",
    "    c = b[0:2]\n",
    "    k = b.replace(c,a[0:2])\n",
    "    l = a.replace(a[0:2],c)\n",
    "    final = l + \" \" + k\n",
    "    return final"
   ]
  },
  {
   "cell_type": "code",
   "execution_count": 25,
   "metadata": {},
   "outputs": [
    {
     "data": {
      "text/plain": [
       "'pox mid'"
      ]
     },
     "execution_count": 25,
     "metadata": {},
     "output_type": "execute_result"
    }
   ],
   "source": [
    "mix_up('mix','pod')"
   ]
  },
  {
   "cell_type": "code",
   "execution_count": 26,
   "metadata": {},
   "outputs": [
    {
     "name": "stdout",
     "output_type": "stream",
     "text": [
      "donuts\n",
      " OK  got: 'Number of donuts: 4' expected: 'Number of donuts: 4'\n",
      " OK  got: 'Number of donuts: 9' expected: 'Number of donuts: 9'\n",
      " OK  got: 'Number of donuts: many' expected: 'Number of donuts: many'\n",
      " OK  got: 'Number of donuts: many' expected: 'Number of donuts: many'\n",
      "both_ends\n",
      " OK  got: 'spng' expected: 'spng'\n",
      " OK  got: 'Helo' expected: 'Helo'\n",
      " OK  got: '' expected: ''\n",
      " OK  got: 'xyyz' expected: 'xyyz'\n",
      "fix_start\n",
      " OK  got: 'ba**le' expected: 'ba**le'\n",
      " OK  got: 'a*rdv*rk' expected: 'a*rdv*rk'\n",
      " OK  got: 'goo*le' expected: 'goo*le'\n",
      " OK  got: 'donut' expected: 'donut'\n",
      "mix_up\n",
      " OK  got: 'pox mid' expected: 'pox mid'\n",
      " OK  got: 'dig donner' expected: 'dig donner'\n",
      " OK  got: 'spash gnort' expected: 'spash gnort'\n",
      " OK  got: 'fizzy perm' expected: 'fizzy perm'\n"
     ]
    }
   ],
   "source": [
    "def test(got, expected):\n",
    "    if got == expected:\n",
    "        prefix = ' OK '\n",
    "    else:\n",
    "        prefix = '  X '\n",
    "    print (('%s got: %s expected: %s') % (prefix, repr(got), repr(expected)))\n",
    "\n",
    "\n",
    "# Provided main() calls the above functions with interesting inputs,\n",
    "# using test() to check if each result is correct or not.\n",
    "def main():\n",
    "    print ('donuts')\n",
    "  # Each line calls donuts, compares its result to the expected for that call.\n",
    "    test(donuts(4), 'Number of donuts: 4')\n",
    "    test(donuts(9), 'Number of donuts: 9')\n",
    "    test(donuts(10), 'Number of donuts: many')\n",
    "    test(donuts(99), 'Number of donuts: many')\n",
    "\n",
    "    print\n",
    "    print ('both_ends')\n",
    "    test(both_ends('spring'), 'spng')\n",
    "    test(both_ends('Hello'), 'Helo')\n",
    "    test(both_ends('a'), '')\n",
    "    test(both_ends('xyz'), 'xyyz')\n",
    "\n",
    "  \n",
    "    print\n",
    "    print ('fix_start')\n",
    "    test(fix_start('babble'), 'ba**le')\n",
    "    test(fix_start('aardvark'), 'a*rdv*rk')\n",
    "    test(fix_start('google'), 'goo*le')\n",
    "    test(fix_start('donut'), 'donut')\n",
    "\n",
    "    print\n",
    "    print ('mix_up')\n",
    "    test(mix_up('mix', 'pod'), 'pox mid')\n",
    "    test(mix_up('dog', 'dinner'), 'dig donner')\n",
    "    test(mix_up('gnash', 'sport'), 'spash gnort')\n",
    "    test(mix_up('pezzy', 'firm'), 'fizzy perm')\n",
    "\n",
    "\n",
    "# Standard boilerplate to call the main() function.\n",
    "if __name__ == '__main__':\n",
    "    main()\n"
   ]
  },
  {
   "cell_type": "code",
   "execution_count": null,
   "metadata": {},
   "outputs": [],
   "source": []
  }
 ],
 "metadata": {
  "kernelspec": {
   "display_name": "Python 3",
   "language": "python",
   "name": "python3"
  },
  "language_info": {
   "codemirror_mode": {
    "name": "ipython",
    "version": 3
   },
   "file_extension": ".py",
   "mimetype": "text/x-python",
   "name": "python",
   "nbconvert_exporter": "python",
   "pygments_lexer": "ipython3",
   "version": "3.7.0"
  }
 },
 "nbformat": 4,
 "nbformat_minor": 2
}
