{
 "cells": [
  {
   "cell_type": "markdown",
   "metadata": {},
   "source": [
    "# Question 1"
   ]
  },
  {
   "cell_type": "code",
   "execution_count": 1,
   "metadata": {},
   "outputs": [
    {
     "name": "stdout",
     "output_type": "stream",
     "text": [
      "(23, 12)\n"
     ]
    }
   ],
   "source": [
    "def solve(numheads,numlegs):\n",
    "    ns='No solutions!'\n",
    "    for i in range(numheads+1):\n",
    "        j=numheads-i\n",
    "        if (2*i)+(4*j)==numlegs:\n",
    "            return i,j\n",
    "    return ns,ns\n",
    "\n",
    "\n",
    "numheads=35\n",
    "numlegs=94\n",
    "solutions=solve(numheads,numlegs)\n",
    "print (solutions)"
   ]
  },
  {
   "cell_type": "markdown",
   "metadata": {},
   "source": [
    "# Question 2"
   ]
  },
  {
   "cell_type": "code",
   "execution_count": null,
   "metadata": {},
   "outputs": [],
   "source": [
    "s = (input(str('Please enter string: '))) # Question 2\n",
    "l1 = list(s)\n",
    "l3 = l1 [::2]\n",
    "for i in l3:\n",
    "    print (i,end=\"\")"
   ]
  },
  {
   "cell_type": "markdown",
   "metadata": {},
   "source": [
    "# Question 3"
   ]
  },
  {
   "cell_type": "code",
   "execution_count": 22,
   "metadata": {},
   "outputs": [
    {
     "name": "stdout",
     "output_type": "stream",
     "text": [
      "ris etov ot esir\n"
     ]
    }
   ],
   "source": [
    "s = 'rise to vote sir' [::-1]  #Question 3\n",
    "print(s)"
   ]
  },
  {
   "cell_type": "markdown",
   "metadata": {},
   "source": [
    "# Question 4"
   ]
  },
  {
   "cell_type": "code",
   "execution_count": 26,
   "metadata": {},
   "outputs": [
    {
     "name": "stdout",
     "output_type": "stream",
     "text": [
      "{'a': 2, 'b': 2, 'c': 2, 'd': 1, 'e': 1, 'f': 1, 'g': 1, 'h': 0, 'i': 0, 'j': 0, 'k': 0, 'l': 0, 'm': 0, 'n': 0, 'o': 0, 'p': 0, 'q': 0, 'r': 0, 's': 0, 't': 0, 'u': 0, 'v': 0, 'w': 0, 'x': 0, 'y': 0, 'z': 0}\n"
     ]
    }
   ],
   "source": [
    "def q4(str):         #Question 4\n",
    "    x = {}\n",
    "    for i in range (97,123):\n",
    "        y = chr(i)\n",
    "        \n",
    "        x.update({y : 0})\n",
    "    for i in str:\n",
    "        x[i] = int(x[i]) + 1\n",
    "    print(x)\n",
    "q4(str = 'abcdefgabc')"
   ]
  },
  {
   "cell_type": "markdown",
   "metadata": {},
   "source": [
    "# Question 5"
   ]
  },
  {
   "cell_type": "code",
   "execution_count": 28,
   "metadata": {},
   "outputs": [],
   "source": [
    "class Shape:                \n",
    "    def area(self):\n",
    "        pass\n",
    "class square(Shape):\n",
    "    def __init__ (self, length):\n",
    "        self.length = length\n",
    "    def area(self):\n",
    "        print(self.length*self.length)"
   ]
  },
  {
   "cell_type": "code",
   "execution_count": 29,
   "metadata": {},
   "outputs": [
    {
     "name": "stdout",
     "output_type": "stream",
     "text": [
      "4\n"
     ]
    }
   ],
   "source": [
    "u = square(2)\n",
    "u.area()"
   ]
  },
  {
   "cell_type": "code",
   "execution_count": null,
   "metadata": {},
   "outputs": [],
   "source": []
  },
  {
   "cell_type": "markdown",
   "metadata": {},
   "source": [
    "# Question 6"
   ]
  },
  {
   "cell_type": "code",
   "execution_count": 30,
   "metadata": {},
   "outputs": [
    {
     "name": "stdout",
     "output_type": "stream",
     "text": [
      "Remove zero division\n"
     ]
    }
   ],
   "source": [
    "x = 5\n",
    "y = 0\n",
    "try:\n",
    "    d = x/y\n",
    "except ZeroDivisionError:\n",
    "    print('Remove zero division')"
   ]
  },
  {
   "cell_type": "markdown",
   "metadata": {},
   "source": [
    "# Question 7"
   ]
  },
  {
   "cell_type": "code",
   "execution_count": 2,
   "metadata": {},
   "outputs": [
    {
     "name": "stdout",
     "output_type": "stream",
     "text": [
      "Enter your Email adress:muhammadammarzia@gmail.com\n",
      "name: muhammadammarzia\n",
      "company: gmail\n"
     ]
    }
   ],
   "source": [
    "import re\n",
    "email=input(\"Enter your Email adress:\")\n",
    "\n",
    "regex=re.search(r\"^\\w+@\\w+(\\.\\w+)+$\",email)\n",
    "\n",
    "if regex != None:\n",
    "    ind1=email.find(\"@\")\n",
    "    ind2=email.find(\".\")\n",
    "\n",
    "    if email[0:ind1].isalpha() and email[(ind1+1):ind2].isalpha():\n",
    "        print(\"name:\",email[0:ind1])\n",
    "        print(\"company:\",email[(ind1+1):ind2])\n",
    "    else:\n",
    "        print(\"username or company name is invalid\\nIt should be consist of letters only\")\n",
    "else:\n",
    "    print(\"invalid Email address\")"
   ]
  },
  {
   "cell_type": "markdown",
   "metadata": {},
   "source": [
    "# Question 8"
   ]
  },
  {
   "cell_type": "code",
   "execution_count": 3,
   "metadata": {},
   "outputs": [
    {
     "name": "stdout",
     "output_type": "stream",
     "text": [
      "Enter string: 2 eggs 2 chickens\n",
      "['2', '2']\n"
     ]
    }
   ],
   "source": [
    "import re\n",
    "inp1=input(\"Enter string: \")\n",
    "\n",
    "tmp=re.findall(r\"\\d+\",inp1)\n",
    "\n",
    "print(tmp)"
   ]
  },
  {
   "cell_type": "markdown",
   "metadata": {},
   "source": [
    "# Question 9"
   ]
  },
  {
   "cell_type": "code",
   "execution_count": 1,
   "metadata": {},
   "outputs": [
    {
     "name": "stdout",
     "output_type": "stream",
     "text": [
      "Please enter n: 5\n",
      "3.5500000000000003\n"
     ]
    }
   ],
   "source": [
    "x = 1\n",
    "y = 2\n",
    "n = input('Please enter n: ')\n",
    "n = int(n)\n",
    "t = 0\n",
    "for i in range(1,n+1):\n",
    "    t += i/(i+1)\n",
    "print (t)"
   ]
  },
  {
   "cell_type": "markdown",
   "metadata": {},
   "source": [
    "# Question 10"
   ]
  },
  {
   "cell_type": "code",
   "execution_count": 3,
   "metadata": {},
   "outputs": [
    {
     "name": "stdout",
     "output_type": "stream",
     "text": [
      "501\n"
     ]
    }
   ],
   "source": [
    "def f(n):                    #question 10\n",
    "    if n == 0:\n",
    "        return 1\n",
    "    return 100 +f(n-1)\n",
    "print(f(5))"
   ]
  },
  {
   "cell_type": "markdown",
   "metadata": {},
   "source": [
    "# Question 11"
   ]
  },
  {
   "cell_type": "code",
   "execution_count": 4,
   "metadata": {},
   "outputs": [
    {
     "name": "stdout",
     "output_type": "stream",
     "text": [
      "Input your passwordad34tdfadA#\n",
      "Valid Password\n"
     ]
    }
   ],
   "source": [
    "import re\n",
    "p= input(\"Input your password\")\n",
    "x = True\n",
    "while x:  \n",
    "    if (len(p)<6 or len(p)>12):\n",
    "        break\n",
    "    elif not re.search(\"[a-z]\",p):\n",
    "        break\n",
    "    elif not re.search(\"[0-9]\",p):\n",
    "        break\n",
    "    elif not re.search(\"[A-Z]\",p):\n",
    "        break\n",
    "    elif not re.search(\"[$#@]\",p):\n",
    "        break\n",
    "    elif re.search(\"\\s\",p):\n",
    "        break\n",
    "    else:\n",
    "        print(\"Valid Password\")\n",
    "        x=False\n",
    "        break\n",
    "\n",
    "if x:\n",
    "    print(\"Not a Valid Password\")"
   ]
  },
  {
   "cell_type": "markdown",
   "metadata": {},
   "source": [
    "# Question 12"
   ]
  },
  {
   "cell_type": "code",
   "execution_count": 5,
   "metadata": {},
   "outputs": [
    {
     "name": "stdout",
     "output_type": "stream",
     "text": [
      "\n",
      "Tuple 1 DATA:\n",
      "enter name:Asad\n",
      "enter age:21\n",
      "enter score:50\n",
      "\n",
      "Tuple 2 DATA:\n",
      "enter name:Ali\n",
      "enter age:21\n",
      "enter score:60\n",
      "\n",
      "Tuple 3 DATA:\n",
      "enter name:Akram\n",
      "enter age:30\n",
      "enter score:70\n",
      "\n",
      "Tuple 4 DATA:\n",
      "enter name:Talal\n",
      "enter age:21\n",
      "enter score:80\n",
      "\n",
      "Tuple 5 DATA:\n",
      "enter name:Anas\n",
      "enter age:12\n",
      "enter score:90\n",
      "\n",
      "Sorting based on:\n",
      "[('Akram', 30, 70), ('Ali', 21, 60), ('Anas', 12, 90), ('Asad', 21, 50), ('Talal', 21, 80)]\n"
     ]
    }
   ],
   "source": [
    "import operator\n",
    "\n",
    "list1=[]\n",
    "for i in range(5):\n",
    "    print(\"\\nTuple\",(i+1),\"DATA:\")\n",
    "    for j in range(1):\n",
    "        name=input(\"enter name:\")\n",
    "        age=int(input(\"enter age:\"))\n",
    "        score=int(input(\"enter score:\"))\n",
    "        tup=(name,age,score)\n",
    "        list1.append(tup)\n",
    "\n",
    "print(\"\\nSorting based on:\")\n",
    "list1.sort(key=operator.itemgetter(0))\n",
    "print(list1)"
   ]
  },
  {
   "cell_type": "markdown",
   "metadata": {},
   "source": [
    "# Question 13"
   ]
  },
  {
   "cell_type": "code",
   "execution_count": 6,
   "metadata": {},
   "outputs": [],
   "source": [
    "class generator():\n",
    "    \n",
    "    def __init__(self,num):\n",
    "        self.__num=num\n",
    "        \n",
    "    def divisor(self):\n",
    "        for i in range(0,self.__num+1):   \n",
    "            if i%7==0:\n",
    "                print(i)"
   ]
  },
  {
   "cell_type": "code",
   "execution_count": 7,
   "metadata": {},
   "outputs": [
    {
     "name": "stdout",
     "output_type": "stream",
     "text": [
      "enter num: 123\n",
      "0\n",
      "7\n",
      "14\n",
      "21\n",
      "28\n",
      "35\n",
      "42\n",
      "49\n",
      "56\n",
      "63\n",
      "70\n",
      "77\n",
      "84\n",
      "91\n",
      "98\n",
      "105\n",
      "112\n",
      "119\n"
     ]
    }
   ],
   "source": [
    "num=int(input(\"enter num: \"))\n",
    "obj=generator(num)\n",
    "\n",
    "obj.divisor()"
   ]
  },
  {
   "cell_type": "markdown",
   "metadata": {},
   "source": [
    "# Question 14"
   ]
  },
  {
   "cell_type": "code",
   "execution_count": 8,
   "metadata": {},
   "outputs": [
    {
     "name": "stdout",
     "output_type": "stream",
     "text": [
      "Input pattern: direction(UP,Down,Left,right) any_int_value(3,4,1,5,3,0)\n",
      "down 1\n",
      "left 4\n",
      "\n",
      "( -1 , -4 )\n",
      "Current Position is : 4\n"
     ]
    }
   ],
   "source": [
    "import math\n",
    "print('Input pattern: direction(UP,Down,Left,right) any_int_value(3,4,1,5,3,0)')\n",
    "\n",
    "dir1 =[0,0]\n",
    "while True:\n",
    "    inp = input()\n",
    "    dir_list = inp.split(' ')\n",
    "    \n",
    "    if dir_list[0].upper() == 'UP':\n",
    "        dir1[0] += int(dir_list[1])\n",
    "    elif dir_list[0].upper() == 'DOWN':\n",
    "        dir1[0] -= int(dir_list[1])\n",
    "    elif dir_list[0].upper() == 'LEFT':\n",
    "        dir1[1] -= int(dir_list[1])\n",
    "    elif dir_list[0].upper() == 'RIGHT':\n",
    "        dir1[1] += int(dir_list[1])\n",
    "    else:\n",
    "        break\n",
    "print (\"(\",dir1[0],\",\",dir1[1],\")\")\n",
    "print ('Current Position is :', int(round(math.sqrt(dir1[0] ** 2 + dir1[1] ** 2))))"
   ]
  },
  {
   "cell_type": "markdown",
   "metadata": {},
   "source": [
    "# Question 15"
   ]
  },
  {
   "cell_type": "code",
   "execution_count": 9,
   "metadata": {},
   "outputs": [
    {
     "name": "stdout",
     "output_type": "stream",
     "text": [
      "enter: New to Python or choosing between Python 2 and Python 3? Read Python 2 or Python 3\n",
      "2:2\n",
      "3:2\n",
      "3?:1\n",
      "New:1\n",
      "Python:5\n",
      "Read:1\n",
      "and:1\n",
      "between:1\n",
      "choosing:1\n",
      "or:2\n",
      "to:1\n"
     ]
    }
   ],
   "source": [
    "st=input(\"enter: \")\n",
    "\n",
    "st1=sorted(st.split(\" \"))\n",
    "st2=[]\n",
    "for i in st1:\n",
    "    if i not in st2:\n",
    "        st2.append(i)\n",
    "for i in st2:\n",
    "    print(str(i)+\":\"+str(st.count(i)))"
   ]
  },
  {
   "cell_type": "code",
   "execution_count": null,
   "metadata": {},
   "outputs": [],
   "source": []
  }
 ],
 "metadata": {
  "kernelspec": {
   "display_name": "Python 3",
   "language": "python",
   "name": "python3"
  },
  "language_info": {
   "codemirror_mode": {
    "name": "ipython",
    "version": 3
   },
   "file_extension": ".py",
   "mimetype": "text/x-python",
   "name": "python",
   "nbconvert_exporter": "python",
   "pygments_lexer": "ipython3",
   "version": "3.7.0"
  }
 },
 "nbformat": 4,
 "nbformat_minor": 2
}
